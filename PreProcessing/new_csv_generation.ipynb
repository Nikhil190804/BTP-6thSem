{
 "cells": [
  {
   "cell_type": "code",
   "execution_count": null,
   "metadata": {},
   "outputs": [
    {
     "name": "stdout",
     "output_type": "stream",
     "text": [
      "../DATASETS/audio_context/1_1478_c(1).wav\n",
      "Deleted: ../DATASETS/audio_context/1_1478_c(1).wav\n",
      "../DATASETS/audio_context/1_1638_c(1).wav\n",
      "Deleted: ../DATASETS/audio_context/1_1638_c(1).wav\n",
      "../DATASETS/audio_context/1_182_c(1).wav\n",
      "Deleted: ../DATASETS/audio_context/1_182_c(1).wav\n",
      "../DATASETS/audio_context/1_6645_c(1).wav\n",
      "Deleted: ../DATASETS/audio_context/1_6645_c(1).wav\n",
      "../DATASETS/audio_context/1_S09E02_178_c(1).wav\n",
      "Deleted: ../DATASETS/audio_context/1_S09E02_178_c(1).wav\n",
      "../DATASETS/audio_context/1_S10E03_260_c(1).wav\n",
      "Deleted: ../DATASETS/audio_context/1_S10E03_260_c(1).wav\n",
      "../DATASETS/audio_context/2_372_c(1).wav\n",
      "Deleted: ../DATASETS/audio_context/2_372_c(1).wav\n",
      "../DATASETS/audio_context/2_486_c(1).wav\n",
      "Deleted: ../DATASETS/audio_context/2_486_c(1).wav\n",
      "../DATASETS/audio_context/2_523_c(1).wav\n",
      "Deleted: ../DATASETS/audio_context/2_523_c(1).wav\n",
      "../DATASETS/audio_context/2_622_c(1).wav\n",
      "Deleted: ../DATASETS/audio_context/2_622_c(1).wav\n",
      "Deletion complete.\n"
     ]
    }
   ],
   "source": [
    "\"\"\"\n",
    "DELETION OF AUDIO FILES, AS AUDIO FILES WERE INCONSISTENT \n",
    "EARLIER: 1212 SAMPLES IN CONTEXT AND 1202 SAMPLES IN UTTERANCE\n",
    "NOW: 1202 SAMPLES IN BOTH\n",
    "\"\"\"\n",
    "import os\n",
    "import re\n",
    "\n",
    "# Set the directory containing the files\n",
    "directory = \"../DATASETS/audio_context/\"\n",
    "\n",
    "# Define the pattern to match files like \"number_c(1).wav\"\n",
    "pattern = re.compile(r\".*_c\\(1\\)\\.wav$\")\n",
    "\n",
    "# Loop through files in the directory\n",
    "for filename in os.listdir(directory):\n",
    "    if pattern.match(filename):\n",
    "        file_path = os.path.join(directory, filename)\n",
    "        print(file_path)\n",
    "        os.remove(file_path)\n",
    "        print(f\"Deleted: {file_path}\")\n",
    "\n",
    "print(\"Deletion complete.\")\n"
   ]
  },
  {
   "cell_type": "code",
   "execution_count": null,
   "metadata": {},
   "outputs": [
    {
     "name": "stdout",
     "output_type": "stream",
     "text": [
      "Processed data saved to context_to_utterance_map.csv\n"
     ]
    }
   ],
   "source": [
    "\"\"\"\n",
    "CREATED A NEW CSV FILE FOR MAPPING AUDIO CONTEXT TO AUDIO UTTERNACE FOR AUDIO BASED LEARNING\n",
    "\"\"\"\n",
    "import pandas as pd\n",
    "\n",
    "# Load the dataset\n",
    "input_csv = \"../DATASETS/mustard++_text.csv\"\n",
    "output_csv = \"context_to_utterance_map.csv\"\n",
    "\n",
    "# Read CSV file\n",
    "df = pd.read_csv(input_csv)\n",
    "\n",
    "# Drop rows where \"Sarcasm\" is NA\n",
    "df = df.dropna(subset=[\"Sarcasm\"])\n",
    "\n",
    "# Ensure \"Sarcasm\" column remains binary (1 and 0)\n",
    "df[\"Sarcasm\"] = df[\"Sarcasm\"].astype(int)\n",
    "\n",
    "# Extract required columns\n",
    "columns_to_keep = [\"SCENE\", \"Sarcasm\", \"Sarcasm_Type\", \"Implicit_Emotion\", \"Explicit_Emotion\", \"Valence\", \"Arousal\"]\n",
    "df = df[columns_to_keep]\n",
    "\n",
    "# Create new columns \"audio_context\" and \"audio_utterance\"\n",
    "df[\"audio_context\"] = \"audio_context/\" + df[\"SCENE\"] + \"_c.wav\"\n",
    "df[\"audio_utterance\"] = \"audio_utterance/\" + df[\"SCENE\"] + \"_u.wav\"\n",
    "\n",
    "# Rearrange columns in the required order\n",
    "df = df[[\"audio_context\", \"audio_utterance\", \"Sarcasm\", \"Sarcasm_Type\", \"Implicit_Emotion\", \"Explicit_Emotion\", \"Valence\", \"Arousal\"]]\n",
    "\n",
    "# Save the new CSV file\n",
    "df.to_csv(output_csv, index=False)\n",
    "\n",
    "print(f\"Processed data saved to {output_csv}\")\n"
   ]
  }
 ],
 "metadata": {
  "kernelspec": {
   "display_name": "Python 3",
   "language": "python",
   "name": "python3"
  },
  "language_info": {
   "codemirror_mode": {
    "name": "ipython",
    "version": 3
   },
   "file_extension": ".py",
   "mimetype": "text/x-python",
   "name": "python",
   "nbconvert_exporter": "python",
   "pygments_lexer": "ipython3",
   "version": "3.12.8"
  }
 },
 "nbformat": 4,
 "nbformat_minor": 2
}
